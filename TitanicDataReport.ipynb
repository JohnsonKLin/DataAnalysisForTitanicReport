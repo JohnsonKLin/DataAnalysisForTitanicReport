{
 "cells": [
  {
   "cell_type": "code",
   "execution_count": 173,
   "metadata": {
    "collapsed": false,
    "scrolled": true
   },
   "outputs": [],
   "source": [
    "import pandas as pd\n",
    "import matplotlib.pyplot as plt\n",
    "import numpy as np\n",
    "import scipy.stats as stats\n",
    "%matplotlib inline\n",
    "titanic_data = pd.read_csv('titanic_data.csv')\n",
    "# Cleaning the data \n",
    "titanic_data = titanic_data[titanic_data['Age'].notnull()]\n",
    "def get_female_amount_from_dataframe(dataframe):\n",
    "    return dataframe[dataframe['Sex'] == 'female']['PassengerId'].count()\n",
    "def get_percentage(numerator,denumerator):\n",
    "    return str(round(numerator/float(denumerator)*100,2))"
   ]
  },
  {
   "cell_type": "markdown",
   "metadata": {},
   "source": [
    "For the first, we tale a look at the relation between Pclass to survied peopeo. The higher pclass passenger have a higher posibility to survived."
   ]
  },
  {
   "cell_type": "code",
   "execution_count": 174,
   "metadata": {
    "collapsed": false,
    "scrolled": true
   },
   "outputs": [
    {
     "name": "stdout",
     "output_type": "stream",
     "text": [
      "Pclass\n",
      "1    0.655914\n",
      "2    0.479769\n",
      "3    0.239437\n",
      "Name: Survived, dtype: float64\n"
     ]
    }
   ],
   "source": [
    "print titanic_data.groupby('Pclass')['Survived'].mean()\n"
   ]
  },
  {
   "cell_type": "markdown",
   "metadata": {},
   "source": [
    "For the second, the female passenger will also have a great chance to survived."
   ]
  },
  {
   "cell_type": "code",
   "execution_count": 175,
   "metadata": {
    "collapsed": false
   },
   "outputs": [
    {
     "name": "stdout",
     "output_type": "stream",
     "text": [
      "Sex\n",
      "female    0.754789\n",
      "male      0.205298\n",
      "Name: Survived, dtype: float64\n"
     ]
    }
   ],
   "source": [
    "print titanic_data.groupby('Sex')['Survived'].mean()"
   ]
  },
  {
   "cell_type": "markdown",
   "metadata": {},
   "source": [
    "We can see the data below that sex is most importance variable for the survived."
   ]
  },
  {
   "cell_type": "code",
   "execution_count": 176,
   "metadata": {
    "collapsed": false
   },
   "outputs": [
    {
     "name": "stdout",
     "output_type": "stream",
     "text": [
      "Sex     Pclass\n",
      "female  1         0.964706\n",
      "        2         0.918919\n",
      "        3         0.460784\n",
      "male    1         0.396040\n",
      "        2         0.151515\n",
      "        3         0.150198\n",
      "Name: Survived, dtype: float64\n"
     ]
    }
   ],
   "source": [
    "print titanic_data.groupby(['Sex','Pclass'])['Survived'].mean()"
   ]
  },
  {
   "cell_type": "markdown",
   "metadata": {},
   "source": [
    "# Dose children have higher chance to survive?"
   ]
  },
  {
   "cell_type": "markdown",
   "metadata": {},
   "source": [
    "We can see the histogram blow. This is the distribution on age variable. We can obviously see gap at the 10. Most of the children was followed with their parent. We can also make a conclusion that most of the passenger age are from 15 to 40."
   ]
  },
  {
   "cell_type": "code",
   "execution_count": 177,
   "metadata": {
    "collapsed": false
   },
   "outputs": [
    {
     "data": {
      "text/plain": [
       "<matplotlib.text.Text at 0x112665e10>"
      ]
     },
     "execution_count": 177,
     "metadata": {},
     "output_type": "execute_result"
    },
    {
     "data": {
      "image/png": "[encoded data removed]",
      "text/plain": [
       "<matplotlib.figure.Figure at 0x112306bd0>"
      ]
     },
     "metadata": {},
     "output_type": "display_data"
    }
   ],
   "source": [
    "titanic_data['Age'].plot(kind='hist',bins = 40,title='Titanic Passenger age distribution', x = 'age').set_xlabel(\"Age\")"
   ]
  },
  {
   "cell_type": "markdown",
   "metadata": {},
   "source": [
    "I also want to find the children survive status. Let us find out the survive status from 0-10."
   ]
  },
  {
   "cell_type": "code",
   "execution_count": 178,
   "metadata": {
    "collapsed": false
   },
   "outputs": [
    {
     "name": "stdout",
     "output_type": "stream",
     "text": [
      "The percentage of children in whole population:\n",
      "8.96%\n",
      "The percentage of survivor in children. \n",
      "59.38%\n"
     ]
    }
   ],
   "source": [
    "survivor_children = survivor_data[survivor_data['Age']<=10]\n",
    "whole_children = titanic_data[titanic_data['Age']<=10]\n",
    "more_than_10_passenger = titanic_data[titanic_data['Age'] >10]\n",
    "print 'The percentage of children in whole population:\\n' + get_percentage(whole_children['PassengerId'].count(),titanic_data['PassengerId'].count()) + '%'\n",
    "print 'The percentage of survivor in children. \\n' + get_percentage(survivor_children['PassengerId'].count(),whole_children['PassengerId'].count())+ '%'"
   ]
  },
  {
   "cell_type": "markdown",
   "metadata": {},
   "source": [
    "Let us seprate the survivor and victim and describe the age and fare(It is meanless to describe other column). "
   ]
  },
  {
   "cell_type": "code",
   "execution_count": 179,
   "metadata": {
    "collapsed": false
   },
   "outputs": [
    {
     "name": "stdout",
     "output_type": "stream",
     "text": [
      "Survivor describe:\n",
      "              Age        Fare\n",
      "count  290.000000  290.000000\n",
      "mean    28.343690   51.843205\n",
      "std     14.950952   70.458776\n",
      "min      0.420000    0.000000\n",
      "25%     19.000000   13.000000\n",
      "50%     28.000000   26.250000\n",
      "75%     36.000000   66.200000\n",
      "max     80.000000  512.329200\n",
      "Victim describe:\n",
      "              Age        Fare\n",
      "count  424.000000  424.000000\n",
      "mean    30.626179   22.965456\n",
      "std     14.172110   31.448825\n",
      "min      1.000000    0.000000\n",
      "25%     21.000000    7.895800\n",
      "50%     28.000000   11.887500\n",
      "75%     39.000000   26.550000\n",
      "max     74.000000  263.000000\n"
     ]
    }
   ],
   "source": [
    "survivor_data = titanic_data.groupby('Survived').get_group(1)\n",
    "victim_data = titanic_data.groupby('Survived').get_group(0)\n",
    "print 'Survivor describe:\\n'+ str(survivor_data.loc[:,['Age','Fare']].describe())\n",
    "print 'Victim describe:\\n' + str(victim_data.loc[:,['Age','Fare']].describe())"
   ]
  },
  {
   "cell_type": "markdown",
   "metadata": {},
   "source": [
    "We can see that there is no too much different on age, but there is huge different for fare of the ticket. Most of the survivors' ticket fare are more than 26 dollar. In victim, 75 percent of  the passenger ticket fare is lowwer than 26 dollar. The plot below shows that most of the suvived passenger's ticket fare is higher than victim."
   ]
  },
  {
   "cell_type": "code",
   "execution_count": 180,
   "metadata": {
    "collapsed": false
   },
   "outputs": [
    {
     "data": {
      "image/png": "[encoded data removed]",
      "text/plain": [
       "<matplotlib.figure.Figure at 0x112899510>"
      ]
     },
     "metadata": {},
     "output_type": "display_data"
    }
   ],
   "source": [
    "ax = survivor_data.plot(kind='scatter', x='Age', y='Fare',color='Red', label='Survived');\n",
    "victim_data.plot(kind='scatter', x='Age', y='Fare',color='Green', label='NonSurvived',ax=ax,title='Passenger survived scatter plot');"
   ]
  },
  {
   "cell_type": "markdown",
   "metadata": {},
   "source": [
    "We can make a conclusion that female, children and rich man people is most likely survive"
   ]
  },
  {
   "cell_type": "markdown",
   "metadata": {},
   "source": [
    "# Which is the place for most rich people embarked. Which is the place for the poor people embarked?"
   ]
  },
  {
   "cell_type": "markdown",
   "metadata": {},
   "source": [
    "We can see the plot below that most of the people coming from 'S'. But the percentage of rich people in 'C' is higher than other place."
   ]
  },
  {
   "cell_type": "code",
   "execution_count": 181,
   "metadata": {
    "collapsed": false,
    "scrolled": false
   },
   "outputs": [
    {
     "data": {
      "text/plain": [
       "<matplotlib.axes._subplots.AxesSubplot at 0x112aa0490>"
      ]
     },
     "execution_count": 181,
     "metadata": {},
     "output_type": "execute_result"
    },
    {
     "data": {
      "image/png": "[encoded data removed]",
      "text/plain": [
       "<matplotlib.figure.Figure at 0x112ac9390>"
      ]
     },
     "metadata": {},
     "output_type": "display_data"
    }
   ],
   "source": [
    "titanic_data.groupby(['Embarked','Pclass'])['PassengerId'].count().plot.bar(title = 'Bar chart group by embarked and pclass')"
   ]
  },
  {
   "cell_type": "markdown",
   "metadata": {},
   "source": [
    "We can also see that most the passenger is the poor people from 'S'."
   ]
  },
  {
   "cell_type": "code",
   "execution_count": 182,
   "metadata": {
    "collapsed": false
   },
   "outputs": [
    {
     "data": {
      "text/plain": [
       "<matplotlib.axes._subplots.AxesSubplot at 0x1128acc10>"
      ]
     },
     "execution_count": 182,
     "metadata": {},
     "output_type": "execute_result"
    },
    {
     "data": {
      "image/png": "[encoded data removed]",
      "text/plain": [
       "<matplotlib.figure.Figure at 0x112bb2190>"
      ]
     },
     "metadata": {},
     "output_type": "display_data"
    }
   ],
   "source": [
    "titanic_data.groupby(['Embarked','Pclass'])['PassengerId'].count().plot.pie(title = 'Group passenger by enbarkedand pclass')"
   ]
  },
  {
   "cell_type": "markdown",
   "metadata": {},
   "source": [
    "# Chi-square test between gender to survived.\n",
    "Null hypotheses and Alternative hupotheses \n",
    "\n",
    "H0: Gender and Survived are independent.\n",
    "\n",
    "HA: Gender and Survived are not indenpendent.\n",
    "\n",
    "For this analysis, we use significance level is 0.05. And we also use chi-square to conduct this data.\n"
   ]
  },
  {
   "cell_type": "code",
   "execution_count": 183,
   "metadata": {
    "collapsed": false
   },
   "outputs": [
    {
     "name": "stdout",
     "output_type": "stream",
     "text": [
      "male Passenger amount:453\n",
      "female Passenger amount:261\n"
     ]
    }
   ],
   "source": [
    "print \"male Passenger amount:\" + str(titanic_data[titanic_data['Sex'] == 'male']['PassengerId'].count())\n",
    "print 'female Passenger amount:' + str(titanic_data[titanic_data['Sex'] == 'female']['PassengerId'].count())"
   ]
  },
  {
   "cell_type": "markdown",
   "metadata": {},
   "source": [
    "DF = (2-1)\\*(2-1) = 1\n",
    "\n",
    "|  Expectation      | Survived | NotSurvived | total number|\n",
    "|--------|----------|-------------|-----------|\n",
    "| male   |     226.5     |       226.5      |453|\n",
    "| female |      130.5    |       130.5      |261|\n",
    "|total number|357|357|714|\n"
   ]
  },
  {
   "cell_type": "code",
   "execution_count": 184,
   "metadata": {
    "collapsed": false,
    "scrolled": true
   },
   "outputs": [
    {
     "name": "stdout",
     "output_type": "stream",
     "text": [
      "Power_divergenceResult(statistic=112.57240364365279, pvalue=2.6770807011239853e-26)\n"
     ]
    }
   ],
   "source": [
    "print stats.chisquare([survivor_data[survivor_data['Sex'] == 'female']['PassengerId'].count(),survivor_data[survivor_data['Sex'] == 'male']['PassengerId'].count()],[130.5,226.5]);"
   ]
  },
  {
   "cell_type": "markdown",
   "metadata": {},
   "source": [
    "Since the P-Value(2.677e-26) is far less than 0.05, we can't accept the null hypothesis. We conclude that these is an relationship between Sex and Survived."
   ]
  },
  {
   "cell_type": "markdown",
   "metadata": {},
   "source": [
    "# Limitations of data"
   ]
  },
  {
   "cell_type": "markdown",
   "metadata": {},
   "source": [
    "There are about 170 passengers have no value on age. The percentage is 19.9% in whole population.It might be have impact to the result conclusion but not too huge impact. There is no appropriate value for these NaN value. Just omitting these records. \n",
    "\n",
    "If We are not create the statistic test for the variable. We are only make the instution conclusion that gender and pclass is correlate to the survived rate . But if we create a statistic test for it, we can know how far these two variable dependent.   \n",
    "\n",
    "There also might missing some column not been included. Such as Passenger income, job, etc. "
   ]
  },
  {
   "cell_type": "markdown",
   "metadata": {
    "collapsed": true
   },
   "source": [
    "# Summry"
   ]
  },
  {
   "cell_type": "markdown",
   "metadata": {},
   "source": [
    "The female passengers survived chance is about 3 times than male. The first class passenger survived chance is 3 times than 2nd class and 1.5 time than 3 class.  The sex is more importent factor than Pclass. "
   ]
  }
 ],
 "metadata": {
  "kernelspec": {
   "display_name": "Python 2",
   "language": "python",
   "name": "python2"
  },
  "language_info": {
   "codemirror_mode": {
    "name": "ipython",
    "version": 2
   },
   "file_extension": ".py",
   "mimetype": "text/x-python",
   "name": "python",
   "nbconvert_exporter": "python",
   "pygments_lexer": "ipython2",
   "version": "2.7.11"
  }
 },
 "nbformat": 4,
 "nbformat_minor": 0
}
